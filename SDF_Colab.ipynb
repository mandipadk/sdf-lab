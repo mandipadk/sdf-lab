{
  "nbformat": 4,
  "nbformat_minor": 5,
  "metadata": {
    "kernelspec": {
      "name": "python3",
      "display_name": "Python 3"
    },
    "language_info": {
      "name": "python",
      "version": "3.x"
    },
    "colab": {
      "name": "SDF Colab (end-to-end)",
      "provenance": []
    }
  },
  "cells": [
    {
      "cell_type": "markdown",
      "metadata": {},
      "source": [
        "# Synthetic Data Factory (SDF) — Colab\\nEnd-to-end: install → bring code → tests → API → generate → filter → dedupe → score → curate → train SFT → report."
      ]
    },
    {
      "cell_type": "code",
      "metadata": {},
      "execution_count": null,
      "outputs": [],
      "source": [
        "#@title 📦 Install deps\n",
        "!pip -q install -U pip\n",
        "!pip -q install fastapi uvicorn transformers peft pydantic requests numpy jsonschema pytest ruff black accelerate"
      ]
    },
    {
      "cell_type": "markdown",
      "metadata": {},
      "source": [
        "## Bring in code\\nUpload the zip produced by ChatGPT or your local repo zip (must contain `pyproject.toml` and `sdf/`)."
      ]
    },
    {
      "cell_type": "code",
      "metadata": {},
      "execution_count": null,
      "outputs": [],
      "source": [
        "#@title ⬆️ Upload SDF zip\n",
        "from google.colab import files\n",
        "import zipfile, io, os, shutil\n",
        "TARGET='/content/sdf-lab'\n",
        "if os.path.exists(TARGET): shutil.rmtree(TARGET)\n",
        "os.makedirs(TARGET, exist_ok=True)\n",
        "up = files.upload()\n",
        "if up:\n",
        "  name = next(iter(up.keys()))\n",
        "  with zipfile.ZipFile(io.BytesIO(up[name]), 'r') as zf:\n",
        "    zf.extractall(TARGET)\n",
        "print('Extracted to', TARGET)"
      ]
    },
    {
      "cell_type": "code",
      "metadata": {},
      "execution_count": null,
      "outputs": [],
      "source": [
        "#@title 🏗️ Install project (editable)\n",
        "%cd /content/sdf-lab\n",
        "!pip -q install -e .[dev]"
      ]
    },
    {
      "cell_type": "code",
      "metadata": {},
      "execution_count": null,
      "outputs": [],
      "source": [
        "#@title ✅ Tests\n",
        "%cd /content/sdf-lab\n",
        "!pytest -q"
      ]
    },
    {
      "cell_type": "code",
      "metadata": {},
      "execution_count": null,
      "outputs": [],
      "source": [
        "#@title 🚀 Launch API (background)\n",
        "import subprocess, time, socket, os\n",
        "!fuser -k 9000/tcp || true\n",
        "p = subprocess.Popen([\"uvicorn\",\"server:app\",\"--host\",\"127.0.0.1\",\"--port\",\"9000\"], cwd=\"/content/sdf-lab\")\n",
        "time.sleep(4)\n",
        "s=socket.socket(); s.settimeout(2)\n",
        "try:\n",
        "  s.connect((\"127.0.0.1\",9000)); s.close(); print(\"API up at http://127.0.0.1:9000\")\n",
        "except Exception as e:\n",
        "  print(\"API failed:\", e)"
      ]
    },
    {
      "cell_type": "code",
      "metadata": {},
      "execution_count": null,
      "outputs": [],
      "source": [
        "#@title 🧪 Generate -> Filter -> Dedupe -> Score -> Curate (via Python API)\n",
        "from sdf.generate.templates import generate_templates\n",
        "from sdf.generate.code_math import generate_code_math\n",
        "from sdf.filter.schema import filter_schema\n",
        "from sdf.filter.pii import filter_pii\n",
        "from sdf.filter.safety import filter_safety\n",
        "from sdf.filter.format import filter_format\n",
        "from sdf.dedupe.exact import dedupe_exact\n",
        "from sdf.score.judge import score_items\n",
        "from sdf.curate.mixture import curate_mixture\n",
        "import json\n",
        "\n",
        "items = generate_templates(50, 1) + generate_code_math(50, 2)\n",
        "k,_ = filter_schema(items, {})\n",
        "k,_ = filter_pii(k, {})\n",
        "k,_ = filter_safety(k, {})\n",
        "k,_ = filter_format(k, {})\n",
        "k = dedupe_exact(k)\n",
        "k = score_items(k, {})\n",
        "cur = curate_mixture(k, 60, {})\n",
        "print(\"curated:\", len(cur))\n",
        "print(json.dumps(cur[0], indent=2)[:1000])"
      ]
    },
    {
      "cell_type": "code",
      "metadata": {},
      "execution_count": null,
      "outputs": [],
      "source": [
        "#@title 🧑‍🏫 Train tiny SFT (LoRA)\n",
        "!python -m sdf.train.sft_trainer --model_id TinyLlama/TinyLlama-1.1B-Chat-v1.0 --data /content/sdf-lab/tests/testdata.sft.jsonl --out_dir /content/out/sft_adapter --epochs 1 --batch_size 2 --lr 5e-5 --max_seq 256 --lora_r 8 --lora_alpha 16"
      ]
    },
    {
      "cell_type": "code",
      "metadata": {},
      "execution_count": null,
      "outputs": [],
      "source": [
        "#@title 🧾 Report\n",
        "import json, tempfile, os\n",
        "from sdf.eval.report import build_report\n",
        "# Save curated to a file for reporting\n",
        "cur_path = \"/content/curated.jsonl\"\n",
        "with open(cur_path,'w') as f:\n",
        "  for x in cur: f.write(json.dumps(x)+'\\n')\n",
        "print(build_report(cur_path))"
      ]
    },
    {
      "cell_type": "markdown",
      "metadata": {},
      "source": [
        "## 🔧 Tool-calling generation + schema validation"
      ]
    },
    {
      "cell_type": "code",
      "metadata": {},
      "execution_count": null,
      "outputs": [],
      "source": [
        "from sdf.generate.tools import generate_tools\n",
        "from sdf.filter.schema import filter_schema\n",
        "tools_items = generate_tools(10, seed=123)\n",
        "kept, dropped = filter_schema(tools_items, {})\n",
        "print(\"kept:\", len(kept), \"dropped:\", len(dropped))\n",
        "print(kept[0])"
      ]
    },
    {
      "cell_type": "markdown",
      "metadata": {},
      "source": [
        "## 🔁 Build DPO pairs (grouped by instruction)"
      ]
    },
    {
      "cell_type": "code",
      "metadata": {},
      "execution_count": null,
      "outputs": [],
      "source": [
        "import json, os, tempfile\n",
        "from sdf.tools.dpo_builder import build_pairs\n",
        "from sdf.generate.templates import generate_templates\n",
        "# make duplicates to simulate multiple answers per instruction\n",
        "a = {\"instruction\":\"Say hi.\",\"input\":\"\",\"output\":\"Hello!\",\"meta\":{\"domain\":\"general\"},\"score\":0.9}\n",
        "b = {\"instruction\":\"Say hi.\",\"input\":\"\",\"output\":\"Hi.\",\"meta\":{\"domain\":\"general\"},\"score\":0.2}\n",
        "pairs = build_pairs([a,b], group_key='instruction', k_pairs_per_group=1)\n",
        "print(pairs[0])"
      ]
    },
    {
      "cell_type": "markdown",
      "metadata": {},
      "source": [
        "## 🧹 Semantic dedupe"
      ]
    },
    {
      "cell_type": "code",
      "metadata": {},
      "execution_count": null,
      "outputs": [],
      "source": [
        "from sdf.dedupe.semantic import dedupe_semantic\n",
        "near_dups = [\n",
        "    {\"instruction\":\"Write an email to Jordan about the Q3 report.\",\"input\":\"\",\"output\":\"Dear Jordan, The Q3 report is ready.\",\"meta\":{\"domain\":\"email\"}},\n",
        "    {\"instruction\":\"Write an email to Jordan about the Q3 report.\",\"input\":\"\",\"output\":\"Dear Jordan, Q3 report attached.\",\"meta\":{\"domain\":\"email\"}},\n",
        "    {\"instruction\":\"List 3 uses for a paperclip.\",\"input\":\"\",\"output\":\"- Use 1 for paperclip\",\"meta\":{\"domain\":\"list\"}},\n",
        "]\n",
        "out = dedupe_semantic(near_dups, threshold=0.9, model_id=\"prajjwal1/bert-tiny\")\n",
        "print(len(out), \"after semantic dedupe\")"
      ]
    }
  ]
}